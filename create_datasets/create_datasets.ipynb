{
 "cells": [
  {
   "cell_type": "markdown",
   "source": [
    "# Create dateset（Rendering images and binvox models）"
   ],
   "metadata": {
    "collapsed": false,
    "pycharm": {
     "name": "#%% md\n"
    }
   }
  },
  {
   "cell_type": "markdown",
   "source": [
    "## import environments"
   ],
   "metadata": {
    "collapsed": false,
    "pycharm": {
     "name": "#%% md\n"
    }
   }
  },
  {
   "cell_type": "code",
   "execution_count": 1,
   "outputs": [],
   "source": [
    "from mpl_toolkits import mplot3d\n",
    "from matplotlib import pyplot\n",
    "from stl import mesh\n",
    "import cv2\n",
    "import shutil\n",
    "import os"
   ],
   "metadata": {
    "collapsed": false,
    "pycharm": {
     "name": "#%%\n"
    }
   }
  },
  {
   "cell_type": "markdown",
   "source": [
    "## 1. Create rendering images for each particles"
   ],
   "metadata": {
    "collapsed": false,
    "pycharm": {
     "name": "#%% md\n"
    }
   }
  },
  {
   "cell_type": "markdown",
   "source": [
    "### 1.1 A function prepare(Ceate folders for the datasets)"
   ],
   "metadata": {
    "collapsed": false,
    "pycharm": {
     "name": "#%% md\n"
    }
   }
  },
  {
   "cell_type": "code",
   "execution_count": 2,
   "outputs": [],
   "source": [
    "def mkdir(path):\n",
    "    folder = os.path.exists(path)\n",
    "    if not folder:\n",
    "        print(\"---  Greate folders for datasets  ---\")\n",
    "        os.makedirs(path)\n",
    "        print(\"--- Finished ---\")\n",
    "    else:\n",
    "        print(\"--- Folder already exists! ---\")"
   ],
   "metadata": {
    "collapsed": false,
    "pycharm": {
     "name": "#%%\n"
    }
   }
  },
  {
   "cell_type": "markdown",
   "source": [
    "### 1.2 Get images from particles models"
   ],
   "metadata": {
    "collapsed": false,
    "pycharm": {
     "name": "#%% md\n"
    }
   }
  },
  {
   "cell_type": "code",
   "execution_count": 6,
   "outputs": [],
   "source": [
    "# Extract the center point coordinates of the stl models(The models are scattered and need to be positioned with the help of center coordinates）\n",
    "x, y, z = [], [], []\n",
    "with open(\"coordinate.txt\") as A:\n",
    "    for eachline in A:\n",
    "        tmp = eachline.split()\n",
    "        x.append(float(tmp[0]))\n",
    "        y.append(float(tmp[1]))\n",
    "        z.append(float(tmp[2]))\n",
    "\n",
    "#The number of the particles in process\n",
    "i=1\n",
    "while True:\n",
    "    filename = 'particles_original'+f'\\p_{i}.stl'\n",
    "\n",
    "    # create a plot\n",
    "    figure = pyplot.figure()\n",
    "    axes = figure.gca(projection='3d')\n",
    "\n",
    "    # Load the stl file and load the read vector information into the plot\n",
    "    mesh_1 = mesh.Mesh.from_file(filename)\n",
    "    axes.add_collection3d(mplot3d.art3d.Poly3DCollection(mesh_1.vectors, linewidths=0.08, alpha=1, edgecolor='black', facecolor='grey'))\n",
    "\n",
    "    # Set the size of the grid\n",
    "    axes.set_xlim3d(x[i-1]-0.05, x[i-1]+0.05)\n",
    "    axes.set_ylim3d(y[i-1]-0.05, y[i-1]+0.05)\n",
    "    axes.set_zlim3d(z[i-1]-0.05, z[i-1]+0.05)\n",
    "    axes.set_aspect('auto', 'box')\n",
    "    axes.set_box_aspect(aspect = (1,1,1))\n",
    "    pyplot.axis('off')\n",
    "\n",
    "    #Here we can adjust the angle of the model to get projections from different angles\n",
    "    for n in range(36):\n",
    "        axes.view_init(azim=10*n, elev=0)\n",
    "        pyplot.savefig(r'particles_images'+f'\\P_{i}_{n+1}_11.png', dpi=50)\n",
    "\n",
    "\n",
    "    pyplot.close(figure)\n",
    "\n",
    "    #If all the particles get the images, stop the cycle\n",
    "    if i == 1:\n",
    "     break\n",
    "    i += 1"
   ],
   "metadata": {
    "collapsed": false,
    "pycharm": {
     "name": "#%%\n"
    }
   }
  },
  {
   "cell_type": "markdown",
   "source": [
    "### 1.2 Get cropped images"
   ],
   "metadata": {
    "collapsed": false,
    "pycharm": {
     "name": "#%% md\n"
    }
   }
  },
  {
   "cell_type": "code",
   "execution_count": null,
   "outputs": [],
   "source": [
    "#The number of the particles in process\n",
    "i=1\n",
    "while True:\n",
    "\n",
    "    #Create folders for the datesets\n",
    "    file = \"Created_datasets\\Dataset_Rendering\"+f\"\\\\{i}\"+\"\\Rendering\"\n",
    "    mkdir(file)\n",
    "\n",
    "    #Creating the images list for each particles\n",
    "    f = open(f'Created_datasets\\Dataset_Rendering\\\\{i}\\Rendering'+r'\\renderings.txt','w')\n",
    "    for n in range(1,37):\n",
    "        img = cv2.imread(\"particles_images\"+f\"\\P_{i}_{n}.png\")\n",
    "        cropped = img[32:169, 90:227]\n",
    "\n",
    "        #Puting the images into the folders\n",
    "        cv2.imwrite(f\"{file}\"+f\"\\\\{str(n-1).rjust(2,'0')}.png\", cropped)\n",
    "\n",
    "        #Writing the image file into the rendering.txt\n",
    "        f.write(f\"{str(n-1).rjust(2,'0')}.png\\n\")\n",
    "    f.close()\n",
    "\n",
    "    #If all the particles get the images, stop the cycle\n",
    "    if i == 1000:\n",
    "     break\n",
    "    i += 1"
   ],
   "metadata": {
    "collapsed": false,
    "pycharm": {
     "name": "#%%\n",
     "is_executing": true
    }
   }
  },
  {
   "cell_type": "markdown",
   "source": [
    "### 1.3 Get scaled down image (if necessary!)"
   ],
   "metadata": {
    "collapsed": false,
    "pycharm": {
     "name": "#%% md\n"
    }
   }
  },
  {
   "cell_type": "code",
   "execution_count": null,
   "outputs": [],
   "source": [
    "#The number of the particles in process\n",
    "i=1\n",
    "scale_factor=1\n",
    "fx,fy=scale_factor,scale_factor\n",
    "interp=cv2.INTER_NEAREST\n",
    "while True:\n",
    "    #Create folders for the datesets\n",
    "    file = \"Created_datasets\\Dataset_Rendering\"+f\"\\\\{i}\"+\"\\Rendering\"\n",
    "    mkdir(file)\n",
    "\n",
    "    #Creating the images list for each particles\n",
    "    f = open(f'Created_datasets\\Dataset_Rendering\\\\{i}\\Rendering'+r'\\renderings.txt','w')\n",
    "    for n in range(1,37):\n",
    "        img = cv2.imread(r\"image_cropped\"+f\"\\P_{i}_{n}_cropped.png\")\n",
    "        img = cv2.resize(img, None, fx=fx, fy=fy, interpolation=interp)\n",
    "\n",
    "        #Puting the images into the folders\n",
    "        cv2.imwrite(f\"{file}\"+f\"\\\\{str(n-1).rjust(2,'0')}.png\", img)\n",
    "\n",
    "        #Writing the image file into the rendering.txt\n",
    "        f.write(f\"{str(n-1).rjust(2,'0')}.png\\n\")\n",
    "    f.close()\n",
    "\n",
    "    #If all the particles get scaled down, stop the cycle\n",
    "    if i == 1000:\n",
    "     break\n",
    "    i += 1"
   ],
   "metadata": {
    "collapsed": false,
    "pycharm": {
     "name": "#%%\n",
     "is_executing": true
    }
   }
  },
  {
   "cell_type": "markdown",
   "source": [],
   "metadata": {
    "collapsed": false,
    "pycharm": {
     "name": "#%% md\n"
    }
   }
  },
  {
   "cell_type": "markdown",
   "source": [
    "### 1.4 Greate binvox models and put them into the datesets folders"
   ],
   "metadata": {
    "collapsed": false,
    "pycharm": {
     "name": "#%% md\n"
    }
   }
  },
  {
   "cell_type": "code",
   "execution_count": null,
   "outputs": [],
   "source": [
    "#Use the binvox.exe to get the binvox model and put them into the folders\n",
    "for i in range(1,1001):\n",
    "    print(f\"./binvox -c -d 32 p_{i}.stl\\n\")\n",
    "#1. copy the orders from the output window\n",
    "#2. Open the cmd or other shell\n",
    "#3. change de path which have the binvox.exe (for example:particles_original)\n",
    "#3. Put orders into the cmd or other shell"
   ],
   "metadata": {
    "collapsed": false,
    "pycharm": {
     "name": "#%%\n",
     "is_executing": true
    }
   }
  },
  {
   "cell_type": "code",
   "execution_count": 8,
   "outputs": [
    {
     "name": "stdout",
     "output_type": "stream",
     "text": [
      "--- Folder already exists! ---\n"
     ]
    },
    {
     "ename": "FileNotFoundError",
     "evalue": "[Errno 2] No such file or directory: '.\\\\particles_binvox\\\\p_1.binvox'",
     "output_type": "error",
     "traceback": [
      "\u001B[0;31m---------------------------------------------------------------------------\u001B[0m",
      "\u001B[0;31mFileNotFoundError\u001B[0m                         Traceback (most recent call last)",
      "\u001B[0;32m<ipython-input-8-df99f5689ed2>\u001B[0m in \u001B[0;36m<module>\u001B[0;34m\u001B[0m\n\u001B[1;32m      6\u001B[0m \u001B[0;34m\u001B[0m\u001B[0m\n\u001B[1;32m      7\u001B[0m     \u001B[0;31m#putting them into the datesets folders\u001B[0m\u001B[0;34m\u001B[0m\u001B[0;34m\u001B[0m\u001B[0;34m\u001B[0m\u001B[0m\n\u001B[0;32m----> 8\u001B[0;31m     \u001B[0mshutil\u001B[0m\u001B[0;34m.\u001B[0m\u001B[0mcopy\u001B[0m\u001B[0;34m(\u001B[0m\u001B[0;34mf\".\\particles_binvox\\p_{i}.binvox\"\u001B[0m\u001B[0;34m,\u001B[0m \u001B[0;34m\"Created_datasets\\Dataset_binvox\"\u001B[0m \u001B[0;34m+\u001B[0m \u001B[0;34mf\"\\\\{i}\"\u001B[0m\u001B[0;34m+\u001B[0m\u001B[0;34m\"\\model.binvox\"\u001B[0m\u001B[0;34m)\u001B[0m\u001B[0;34m\u001B[0m\u001B[0;34m\u001B[0m\u001B[0m\n\u001B[0m\u001B[1;32m      9\u001B[0m \u001B[0;34m\u001B[0m\u001B[0m\n\u001B[1;32m     10\u001B[0m     \u001B[0;31m#If all the binvox models were putted into the folders, stop the cycle\u001B[0m\u001B[0;34m\u001B[0m\u001B[0;34m\u001B[0m\u001B[0;34m\u001B[0m\u001B[0m\n",
      "\u001B[0;32m~/anaconda3/envs/3D-R2N2/lib/python3.6/shutil.py\u001B[0m in \u001B[0;36mcopy\u001B[0;34m(src, dst, follow_symlinks)\u001B[0m\n\u001B[1;32m    243\u001B[0m     \u001B[0;32mif\u001B[0m \u001B[0mos\u001B[0m\u001B[0;34m.\u001B[0m\u001B[0mpath\u001B[0m\u001B[0;34m.\u001B[0m\u001B[0misdir\u001B[0m\u001B[0;34m(\u001B[0m\u001B[0mdst\u001B[0m\u001B[0;34m)\u001B[0m\u001B[0;34m:\u001B[0m\u001B[0;34m\u001B[0m\u001B[0;34m\u001B[0m\u001B[0m\n\u001B[1;32m    244\u001B[0m         \u001B[0mdst\u001B[0m \u001B[0;34m=\u001B[0m \u001B[0mos\u001B[0m\u001B[0;34m.\u001B[0m\u001B[0mpath\u001B[0m\u001B[0;34m.\u001B[0m\u001B[0mjoin\u001B[0m\u001B[0;34m(\u001B[0m\u001B[0mdst\u001B[0m\u001B[0;34m,\u001B[0m \u001B[0mos\u001B[0m\u001B[0;34m.\u001B[0m\u001B[0mpath\u001B[0m\u001B[0;34m.\u001B[0m\u001B[0mbasename\u001B[0m\u001B[0;34m(\u001B[0m\u001B[0msrc\u001B[0m\u001B[0;34m)\u001B[0m\u001B[0;34m)\u001B[0m\u001B[0;34m\u001B[0m\u001B[0;34m\u001B[0m\u001B[0m\n\u001B[0;32m--> 245\u001B[0;31m     \u001B[0mcopyfile\u001B[0m\u001B[0;34m(\u001B[0m\u001B[0msrc\u001B[0m\u001B[0;34m,\u001B[0m \u001B[0mdst\u001B[0m\u001B[0;34m,\u001B[0m \u001B[0mfollow_symlinks\u001B[0m\u001B[0;34m=\u001B[0m\u001B[0mfollow_symlinks\u001B[0m\u001B[0;34m)\u001B[0m\u001B[0;34m\u001B[0m\u001B[0;34m\u001B[0m\u001B[0m\n\u001B[0m\u001B[1;32m    246\u001B[0m     \u001B[0mcopymode\u001B[0m\u001B[0;34m(\u001B[0m\u001B[0msrc\u001B[0m\u001B[0;34m,\u001B[0m \u001B[0mdst\u001B[0m\u001B[0;34m,\u001B[0m \u001B[0mfollow_symlinks\u001B[0m\u001B[0;34m=\u001B[0m\u001B[0mfollow_symlinks\u001B[0m\u001B[0;34m)\u001B[0m\u001B[0;34m\u001B[0m\u001B[0;34m\u001B[0m\u001B[0m\n\u001B[1;32m    247\u001B[0m     \u001B[0;32mreturn\u001B[0m \u001B[0mdst\u001B[0m\u001B[0;34m\u001B[0m\u001B[0;34m\u001B[0m\u001B[0m\n",
      "\u001B[0;32m~/anaconda3/envs/3D-R2N2/lib/python3.6/shutil.py\u001B[0m in \u001B[0;36mcopyfile\u001B[0;34m(src, dst, follow_symlinks)\u001B[0m\n\u001B[1;32m    118\u001B[0m         \u001B[0mos\u001B[0m\u001B[0;34m.\u001B[0m\u001B[0msymlink\u001B[0m\u001B[0;34m(\u001B[0m\u001B[0mos\u001B[0m\u001B[0;34m.\u001B[0m\u001B[0mreadlink\u001B[0m\u001B[0;34m(\u001B[0m\u001B[0msrc\u001B[0m\u001B[0;34m)\u001B[0m\u001B[0;34m,\u001B[0m \u001B[0mdst\u001B[0m\u001B[0;34m)\u001B[0m\u001B[0;34m\u001B[0m\u001B[0;34m\u001B[0m\u001B[0m\n\u001B[1;32m    119\u001B[0m     \u001B[0;32melse\u001B[0m\u001B[0;34m:\u001B[0m\u001B[0;34m\u001B[0m\u001B[0;34m\u001B[0m\u001B[0m\n\u001B[0;32m--> 120\u001B[0;31m         \u001B[0;32mwith\u001B[0m \u001B[0mopen\u001B[0m\u001B[0;34m(\u001B[0m\u001B[0msrc\u001B[0m\u001B[0;34m,\u001B[0m \u001B[0;34m'rb'\u001B[0m\u001B[0;34m)\u001B[0m \u001B[0;32mas\u001B[0m \u001B[0mfsrc\u001B[0m\u001B[0;34m:\u001B[0m\u001B[0;34m\u001B[0m\u001B[0;34m\u001B[0m\u001B[0m\n\u001B[0m\u001B[1;32m    121\u001B[0m             \u001B[0;32mwith\u001B[0m \u001B[0mopen\u001B[0m\u001B[0;34m(\u001B[0m\u001B[0mdst\u001B[0m\u001B[0;34m,\u001B[0m \u001B[0;34m'wb'\u001B[0m\u001B[0;34m)\u001B[0m \u001B[0;32mas\u001B[0m \u001B[0mfdst\u001B[0m\u001B[0;34m:\u001B[0m\u001B[0;34m\u001B[0m\u001B[0;34m\u001B[0m\u001B[0m\n\u001B[1;32m    122\u001B[0m                 \u001B[0mcopyfileobj\u001B[0m\u001B[0;34m(\u001B[0m\u001B[0mfsrc\u001B[0m\u001B[0;34m,\u001B[0m \u001B[0mfdst\u001B[0m\u001B[0;34m)\u001B[0m\u001B[0;34m\u001B[0m\u001B[0;34m\u001B[0m\u001B[0m\n",
      "\u001B[0;31mFileNotFoundError\u001B[0m: [Errno 2] No such file or directory: '.\\\\particles_binvox\\\\p_1.binvox'"
     ]
    }
   ],
   "source": [
    "#create folders for the binvox models\n",
    "i = 1\n",
    "while True:\n",
    "    file = \"Created_datasets\\Dataset_binvox\" + f\"\\\\{i}\"\n",
    "    mkdir(file)\n",
    "\n",
    "    #putting them into the datesets folders\n",
    "    shutil.copy(f\"particles_binvox\\p_{i}.binvox\", \"Created_datasets\\Dataset_binvox\" + f\"\\\\{i}\"+\"\\model.binvox\")\n",
    "\n",
    "    #If all the binvox models were putted into the folders, stop the cycle\n",
    "    if i == 1000:\n",
    "        break\n",
    "    i += 1"
   ],
   "metadata": {
    "collapsed": false,
    "pycharm": {
     "name": "#%%\n"
    }
   }
  }
 ],
 "metadata": {
  "kernelspec": {
   "display_name": "Python 3",
   "language": "python",
   "name": "python3"
  },
  "language_info": {
   "codemirror_mode": {
    "name": "ipython",
    "version": 2
   },
   "file_extension": ".py",
   "mimetype": "text/x-python",
   "name": "python",
   "nbconvert_exporter": "python",
   "pygments_lexer": "ipython2",
   "version": "2.7.6"
  }
 },
 "nbformat": 4,
 "nbformat_minor": 0
}